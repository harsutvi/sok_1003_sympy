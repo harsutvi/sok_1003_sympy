{
 "cells": [
  {
   "cell_type": "code",
   "execution_count": 24,
   "id": "fd3fe035-a4e1-424d-8dbc-e185406f5cbf",
   "metadata": {},
   "outputs": [],
   "source": [
    "import sympy as sp\n",
    "from sympy.solvers import solve\n",
    "\n"
   ]
  },
  {
   "cell_type": "code",
   "execution_count": 25,
   "id": "4a7c2592-8b7f-4b39-ac77-3fa70b8e6226",
   "metadata": {},
   "outputs": [
    {
     "data": {
      "text/latex": [
       "$\\displaystyle - 2 x + y = 4$"
      ],
      "text/plain": [
       "Eq(-2*x + y, 4)"
      ]
     },
     "execution_count": 25,
     "metadata": {},
     "output_type": "execute_result"
    }
   ],
   "source": [
    "#kap 15\n",
    "#oppgave 1\n",
    "#1a)\n",
    "\n",
    "x, y = sp.symbols(\"x, y\")\n",
    "unknown = [x, y]\n",
    "eq_a = [\n",
    "    sp.Eq(2*x+4*y,6),\n",
    "    sp.Eq(-2*x+y, 4)\n",
    "]    \n",
    "\n",
    "eq_a[1]"
   ]
  },
  {
   "cell_type": "code",
   "execution_count": 26,
   "id": "918d05a8-068f-4f43-94e1-21f93cffa70d",
   "metadata": {},
   "outputs": [
    {
     "data": {
      "text/plain": [
       "{x: -1, y: 2}"
      ]
     },
     "execution_count": 26,
     "metadata": {},
     "output_type": "execute_result"
    }
   ],
   "source": [
    "sp.solve(eq_a, unknown)"
   ]
  },
  {
   "cell_type": "code",
   "execution_count": 27,
   "id": "775a6ac7-767d-4c94-8196-c09e36f8683d",
   "metadata": {},
   "outputs": [
    {
     "data": {
      "text/latex": [
       "$\\displaystyle x^{2} + x - y = 1$"
      ],
      "text/plain": [
       "Eq(x**2 + x - y, 1)"
      ]
     },
     "execution_count": 27,
     "metadata": {},
     "output_type": "execute_result"
    }
   ],
   "source": [
    "#1b)\n",
    "\n",
    "eq_b = [\n",
    "    sp.Eq(2*x-y, -1),\n",
    "    sp.Eq(x**2+x-y, 1)\n",
    "]\n",
    "\n",
    "eq_b[1]"
   ]
  },
  {
   "cell_type": "code",
   "execution_count": 28,
   "id": "c01a702d-c0c1-4e15-a7c4-487e26dc96cd",
   "metadata": {},
   "outputs": [
    {
     "data": {
      "text/plain": [
       "[(-1, -1), (2, 5)]"
      ]
     },
     "execution_count": 28,
     "metadata": {},
     "output_type": "execute_result"
    }
   ],
   "source": [
    "sp.solve(eq_b, unknown)"
   ]
  },
  {
   "cell_type": "code",
   "execution_count": 29,
   "id": "24d78f92-b4d0-43e6-bb75-0103d92fa32b",
   "metadata": {},
   "outputs": [
    {
     "data": {
      "text/plain": [
       "{x: 4, y: 0}"
      ]
     },
     "execution_count": 29,
     "metadata": {},
     "output_type": "execute_result"
    }
   ],
   "source": [
    "#oppgave 2\n",
    "#2a)\n",
    "\n",
    "eq_2a = [\n",
    "    sp.Eq(3*x-12, -6*y),\n",
    "    sp.Eq(4*x-8*y, 16)\n",
    "]\n",
    "\n",
    "sp.solve(eq_2a, unknown)"
   ]
  },
  {
   "cell_type": "code",
   "execution_count": 30,
   "id": "9a7f1b20-9c81-45a3-8e52-88c71ca8533a",
   "metadata": {},
   "outputs": [
    {
     "data": {
      "text/plain": [
       "[(-15/2, 31/4), (2, 3)]"
      ]
     },
     "execution_count": 30,
     "metadata": {},
     "output_type": "execute_result"
    }
   ],
   "source": [
    "#2b)\n",
    "\n",
    "eq_2b = [\n",
    "    sp.Eq(x**2+4*x-3, 3*y),\n",
    "    sp.Eq(2*y, 8-x)\n",
    "]\n",
    "\n",
    "sp.solve(eq_2b, unknown)"
   ]
  },
  {
   "cell_type": "code",
   "execution_count": 31,
   "id": "3e3fd25a-269b-41c5-b3c1-11d522d00605",
   "metadata": {},
   "outputs": [
    {
     "data": {
      "text/plain": [
       "{x: 2, y: 2}"
      ]
     },
     "execution_count": 31,
     "metadata": {},
     "output_type": "execute_result"
    }
   ],
   "source": [
    "#kap16\n",
    "#oppgave 1\n",
    "#1a)\n",
    "\n",
    "eq_1a = [\n",
    "    sp.Eq(4*x+2*y, 12),\n",
    "    sp.Eq(6*x-2*y, 8)\n",
    "]\n",
    "\n",
    "sp.solve(eq_1a, unknown)"
   ]
  },
  {
   "cell_type": "code",
   "execution_count": 32,
   "id": "69033f6e-e204-4518-ac68-1ba2e287900a",
   "metadata": {},
   "outputs": [
    {
     "data": {
      "text/plain": [
       "[(0, -5), (12, 1)]"
      ]
     },
     "execution_count": 32,
     "metadata": {},
     "output_type": "execute_result"
    }
   ],
   "source": [
    "#1b)\n",
    "eq_1b = [\n",
    "    sp.Eq(2*x+y**2, 25),\n",
    "    sp.Eq(x-2*y, 10)\n",
    "]\n",
    "\n",
    "sp.solve(eq_1b, unknown)"
   ]
  },
  {
   "cell_type": "code",
   "execution_count": 33,
   "id": "ac8086da-fbd3-469f-a685-e7fd2ca36e49",
   "metadata": {},
   "outputs": [
    {
     "data": {
      "text/plain": [
       "{x: 4, y: 2}"
      ]
     },
     "execution_count": 33,
     "metadata": {},
     "output_type": "execute_result"
    }
   ],
   "source": [
    "#oppgave 2\n",
    "#2a)\n",
    "\n",
    "eq_2a = [\n",
    "    sp.Eq(4*x-4*y, 8),\n",
    "    sp.Eq(9*x-5*y, 26)\n",
    "]\n",
    "\n",
    "sp.solve(eq_2a, unknown)"
   ]
  },
  {
   "cell_type": "code",
   "execution_count": 34,
   "id": "7aa6c82e-e5d6-4298-800c-e296c7a084ec",
   "metadata": {},
   "outputs": [
    {
     "data": {
      "text/plain": [
       "[(-9, -2*sqrt(3)), (-9, 2*sqrt(3)), (7, -2), (7, 2)]"
      ]
     },
     "execution_count": 34,
     "metadata": {},
     "output_type": "execute_result"
    }
   ],
   "source": [
    "eq_2b = [\n",
    "    sp.Eq(x+2*y**2, 15),\n",
    "    sp.Eq(x**2-4*y**2, 33)\n",
    "]\n",
    "\n",
    "sp.solve(eq_2b, unknown)"
   ]
  },
  {
   "cell_type": "code",
   "execution_count": 35,
   "id": "fd804e75-37f0-4ad3-b3f9-bfca4b6c8268",
   "metadata": {},
   "outputs": [
    {
     "data": {
      "text/plain": [
       "[(0, -4), (0, 4), (15, -1), (15, 1)]"
      ]
     },
     "execution_count": 35,
     "metadata": {},
     "output_type": "execute_result"
    }
   ],
   "source": [
    "#oppgave 17\n",
    "#1a)\n",
    "\n",
    "eq_1a = [\n",
    "    sp.Eq(x*y**2-x, 0),\n",
    "    sp.Eq(x+y**2, 16)\n",
    "]\n",
    "\n",
    "sp.solve(eq_1a, unknown)"
   ]
  },
  {
   "cell_type": "code",
   "execution_count": 36,
   "id": "1ec466c0-beb5-416d-9db4-1bfd718090ae",
   "metadata": {},
   "outputs": [
    {
     "data": {
      "text/plain": [
       "[(-10, 0), (-6, -8), (-6, 8), (6, -8), (6, 8), (10, 0)]"
      ]
     },
     "execution_count": 36,
     "metadata": {},
     "output_type": "execute_result"
    }
   ],
   "source": [
    "#1b)\n",
    "\n",
    "eq_1b = [\n",
    "    sp.Eq(x**2+y**2, 100),\n",
    "    sp.Eq((x**2)*y-36*y, 0)\n",
    "]\n",
    "\n",
    "sp.solve(eq_1b, unknown)"
   ]
  },
  {
   "cell_type": "code",
   "execution_count": 37,
   "id": "ff147016-d8bd-41d7-99cd-766e660e53e7",
   "metadata": {},
   "outputs": [
    {
     "data": {
      "text/plain": [
       "[(-3, -7), (-3, 7), (0, -sqrt(58)), (0, sqrt(58)), (3, -7), (3, 7)]"
      ]
     },
     "execution_count": 37,
     "metadata": {},
     "output_type": "execute_result"
    }
   ],
   "source": [
    "#2a)\n",
    "\n",
    "eq_2a = [\n",
    "    sp.Eq(x*(y**2)-49*x, 0),\n",
    "    sp.Eq(x**2+y**2, 58)\n",
    "]\n",
    "\n",
    "sp.solve(eq_2a, unknown)"
   ]
  },
  {
   "cell_type": "code",
   "execution_count": 38,
   "id": "66c34fd1-9ea3-4a9e-83d2-40c7411f9ae6",
   "metadata": {},
   "outputs": [
    {
     "data": {
      "text/plain": [
       "[(-1.11803398874989, 0.0),\n",
       " (-0.500000000000000, -1.00000000000000),\n",
       " (-0.500000000000000, 1.00000000000000),\n",
       " (1.11803398874989, 0.0)]"
      ]
     },
     "execution_count": 38,
     "metadata": {},
     "output_type": "execute_result"
    }
   ],
   "source": [
    "#2b)\n",
    "\n",
    "eq_2b = [\n",
    "    sp.Eq(x**2+y**2, (5/4)),\n",
    "    sp.Eq(2*x*y+y, 0)\n",
    "]\n",
    "\n",
    "sp.solve(eq_2b, unknown)"
   ]
  },
  {
   "cell_type": "code",
   "execution_count": 39,
   "id": "86ce9d55-d681-4eed-b36d-fdc9c052f34d",
   "metadata": {},
   "outputs": [
    {
     "data": {
      "text/latex": [
       "$\\displaystyle x^{5}$"
      ],
      "text/plain": [
       "x**5"
      ]
     },
     "execution_count": 39,
     "metadata": {},
     "output_type": "execute_result"
    }
   ],
   "source": [
    "#kap19\n",
    "#oppgave 1\n",
    "#1a)\n",
    "\n",
    "def a19(x):\n",
    "    return x**5\n",
    "a19(x)"
   ]
  },
  {
   "cell_type": "code",
   "execution_count": 40,
   "id": "7c118166-691e-4af2-9498-8e0f658da193",
   "metadata": {},
   "outputs": [
    {
     "data": {
      "text/latex": [
       "$\\displaystyle 5 x^{4}$"
      ],
      "text/plain": [
       "5*x**4"
      ]
     },
     "execution_count": 40,
     "metadata": {},
     "output_type": "execute_result"
    }
   ],
   "source": [
    "sp.diff(a19(x))"
   ]
  },
  {
   "cell_type": "code",
   "execution_count": 41,
   "id": "df19bd17-3905-42a8-ae3f-866d775484ea",
   "metadata": {},
   "outputs": [
    {
     "data": {
      "text/latex": [
       "$\\displaystyle x + 12$"
      ],
      "text/plain": [
       "x + 12"
      ]
     },
     "execution_count": 41,
     "metadata": {},
     "output_type": "execute_result"
    }
   ],
   "source": [
    "#1b)\n",
    "\n",
    "def b19(x):\n",
    "    return x + 12\n",
    "b19(x)"
   ]
  },
  {
   "cell_type": "code",
   "execution_count": 42,
   "id": "e9b8c22f-fe5d-4c1e-83eb-6a9343248d39",
   "metadata": {},
   "outputs": [
    {
     "data": {
      "text/latex": [
       "$\\displaystyle 1$"
      ],
      "text/plain": [
       "1"
      ]
     },
     "execution_count": 42,
     "metadata": {},
     "output_type": "execute_result"
    }
   ],
   "source": [
    "sp.diff(b19(x))"
   ]
  },
  {
   "cell_type": "code",
   "execution_count": 43,
   "id": "7219829f-494d-403c-bc99-f9982d22d14f",
   "metadata": {},
   "outputs": [
    {
     "data": {
      "text/latex": [
       "$\\displaystyle x^{3} + 4 x^{2}$"
      ],
      "text/plain": [
       "x**3 + 4*x**2"
      ]
     },
     "execution_count": 43,
     "metadata": {},
     "output_type": "execute_result"
    }
   ],
   "source": [
    "#1c)\n",
    "\n",
    "def c19(x):\n",
    "    return x**3 + 4*x**2\n",
    "c19(x)"
   ]
  },
  {
   "cell_type": "code",
   "execution_count": 44,
   "id": "d98143dc-910d-4e1a-8fc7-7a75a2485128",
   "metadata": {},
   "outputs": [
    {
     "data": {
      "text/latex": [
       "$\\displaystyle 3 x^{2} + 8 x$"
      ],
      "text/plain": [
       "3*x**2 + 8*x"
      ]
     },
     "execution_count": 44,
     "metadata": {},
     "output_type": "execute_result"
    }
   ],
   "source": [
    "sp.diff(c19(x))"
   ]
  },
  {
   "cell_type": "code",
   "execution_count": 45,
   "id": "9c0a18f6-2570-41ae-8012-c90d68f3f3f0",
   "metadata": {},
   "outputs": [
    {
     "data": {
      "text/latex": [
       "$\\displaystyle 2 x^{3} + 6$"
      ],
      "text/plain": [
       "2*x**3 + 6"
      ]
     },
     "execution_count": 45,
     "metadata": {},
     "output_type": "execute_result"
    }
   ],
   "source": [
    "#1d)\n",
    "\n",
    "def d19(x):\n",
    "    return 2*x**3 + sp.sqrt(36)\n",
    "d19(x)"
   ]
  },
  {
   "cell_type": "code",
   "execution_count": 46,
   "id": "984546d1-c76a-4861-b8b0-febfea8a25e4",
   "metadata": {},
   "outputs": [
    {
     "data": {
      "text/latex": [
       "$\\displaystyle 6 x^{2}$"
      ],
      "text/plain": [
       "6*x**2"
      ]
     },
     "execution_count": 46,
     "metadata": {},
     "output_type": "execute_result"
    }
   ],
   "source": [
    "sp.diff(d19(x), x)"
   ]
  },
  {
   "cell_type": "code",
   "execution_count": 47,
   "id": "b816435a-f3bb-4780-8070-3cf8f0465276",
   "metadata": {},
   "outputs": [
    {
     "data": {
      "text/latex": [
       "$\\displaystyle \\sqrt{x} + 25$"
      ],
      "text/plain": [
       "sqrt(x) + 25"
      ]
     },
     "execution_count": 47,
     "metadata": {},
     "output_type": "execute_result"
    }
   ],
   "source": [
    "#1e)\n",
    "def e19(x):\n",
    "    return sp.sqrt(x) + 5**2\n",
    "e19(x)"
   ]
  },
  {
   "cell_type": "code",
   "execution_count": 48,
   "id": "8d0eb1ef-7bbc-4308-b6f3-aed55814dc82",
   "metadata": {},
   "outputs": [
    {
     "data": {
      "text/latex": [
       "$\\displaystyle \\frac{1}{2 \\sqrt{x}}$"
      ],
      "text/plain": [
       "1/(2*sqrt(x))"
      ]
     },
     "execution_count": 48,
     "metadata": {},
     "output_type": "execute_result"
    }
   ],
   "source": [
    "sp.diff(e19(x))"
   ]
  },
  {
   "cell_type": "code",
   "execution_count": 49,
   "id": "1272b737-f0ca-4e86-be84-1c264757ed7d",
   "metadata": {},
   "outputs": [
    {
     "data": {
      "text/latex": [
       "$\\displaystyle x^{3} + \\frac{1}{x}$"
      ],
      "text/plain": [
       "x**3 + 1/x"
      ]
     },
     "execution_count": 49,
     "metadata": {},
     "output_type": "execute_result"
    }
   ],
   "source": [
    "#1f)\n",
    "def f19(x):\n",
    "    return x**3 + (1/x)\n",
    "f19(x)"
   ]
  },
  {
   "cell_type": "code",
   "execution_count": 50,
   "id": "c7e5de3a-472b-4d4d-b878-a6358dba1ecd",
   "metadata": {},
   "outputs": [
    {
     "data": {
      "text/latex": [
       "$\\displaystyle 3 x^{2} - \\frac{1}{x^{2}}$"
      ],
      "text/plain": [
       "3*x**2 - 1/x**2"
      ]
     },
     "execution_count": 50,
     "metadata": {},
     "output_type": "execute_result"
    }
   ],
   "source": [
    "sp.diff(f19(x))"
   ]
  },
  {
   "cell_type": "code",
   "execution_count": 51,
   "id": "7b1cf6ec-ed0a-4294-8f54-49ece149d646",
   "metadata": {},
   "outputs": [
    {
     "data": {
      "text/latex": [
       "$\\displaystyle x^{3} - x^{2} + 0.25 x$"
      ],
      "text/plain": [
       "x**3 - x**2 + 0.25*x"
      ]
     },
     "execution_count": 51,
     "metadata": {},
     "output_type": "execute_result"
    }
   ],
   "source": [
    "#1g)\n",
    "\n",
    "def g19(x):\n",
    "    return x**3-x**2+(1/4)*x\n",
    "g19(x)"
   ]
  },
  {
   "cell_type": "code",
   "execution_count": 52,
   "id": "307d08a4-9b5f-45a8-a615-91fb7336164d",
   "metadata": {},
   "outputs": [
    {
     "data": {
      "text/latex": [
       "$\\displaystyle 3 x^{2} - 2 x + 0.25$"
      ],
      "text/plain": [
       "3*x**2 - 2*x + 0.25"
      ]
     },
     "execution_count": 52,
     "metadata": {},
     "output_type": "execute_result"
    }
   ],
   "source": [
    "sp.diff(g19(x))"
   ]
  },
  {
   "cell_type": "code",
   "execution_count": 53,
   "id": "925f8f27-59bf-4717-8bba-d7efcdcd96cc",
   "metadata": {},
   "outputs": [
    {
     "data": {
      "text/latex": [
       "$\\displaystyle 36 x^{5} - \\frac{1}{x^{2}}$"
      ],
      "text/plain": [
       "36*x**5 - 1/x**2"
      ]
     },
     "execution_count": 53,
     "metadata": {},
     "output_type": "execute_result"
    }
   ],
   "source": [
    "#oppgave 2 dette tok tid, prøver den kjappe metoden\n",
    "#2a)\n",
    "sp.diff((1/x) + 6*x**6)\n"
   ]
  },
  {
   "cell_type": "code",
   "execution_count": 54,
   "id": "b9cc604c-f173-450e-8fe4-e46dd8f9b0e5",
   "metadata": {},
   "outputs": [
    {
     "data": {
      "text/latex": [
       "$\\displaystyle 1.5 x^{2} - 1$"
      ],
      "text/plain": [
       "1.5*x**2 - 1"
      ]
     },
     "execution_count": 54,
     "metadata": {},
     "output_type": "execute_result"
    }
   ],
   "source": [
    "#2b\n",
    "sp.diff(-x+(1/2)*x**3)"
   ]
  },
  {
   "cell_type": "code",
   "execution_count": 55,
   "id": "08b42779-5274-4856-9bdc-a638ffe7f579",
   "metadata": {},
   "outputs": [
    {
     "data": {
      "text/latex": [
       "$\\displaystyle x \\left(x^{2} + 2 x - 3\\right)$"
      ],
      "text/plain": [
       "x*(x**2 + 2*x - 3)"
      ]
     },
     "execution_count": 55,
     "metadata": {},
     "output_type": "execute_result"
    }
   ],
   "source": [
    "#2c\n",
    "def c219(x):\n",
    "    return x*(x**2+2*x-3)\n",
    "c219(x)"
   ]
  },
  {
   "cell_type": "code",
   "execution_count": 56,
   "id": "86f96ee5-fed1-4a29-9d60-3d42ebc4f0d4",
   "metadata": {},
   "outputs": [
    {
     "data": {
      "text/latex": [
       "$\\displaystyle 3 x^{2} + 4 x$"
      ],
      "text/plain": [
       "3*x**2 + 4*x"
      ]
     },
     "execution_count": 56,
     "metadata": {},
     "output_type": "execute_result"
    }
   ],
   "source": [
    "#problemer med å løse denne\n",
    "sp.diff(x**3+2*x**2-3)\n"
   ]
  },
  {
   "cell_type": "code",
   "execution_count": 57,
   "id": "f266fe38-17fc-43a0-91d9-e4a35d7ba00a",
   "metadata": {},
   "outputs": [
    {
     "data": {
      "text/latex": [
       "$\\displaystyle 9 x^{8}$"
      ],
      "text/plain": [
       "9*x**8"
      ]
     },
     "execution_count": 57,
     "metadata": {},
     "output_type": "execute_result"
    }
   ],
   "source": [
    "#kap 20\n",
    "#oppgave 1\n",
    "#e)\n",
    "sp.diff(x**4*x**5)"
   ]
  },
  {
   "cell_type": "code",
   "execution_count": 58,
   "id": "b3bde61f-c524-4b73-8b40-bb2b3b683aeb",
   "metadata": {},
   "outputs": [
    {
     "data": {
      "text/latex": [
       "$\\displaystyle \\frac{3 \\sqrt{x}}{2}$"
      ],
      "text/plain": [
       "3*sqrt(x)/2"
      ]
     },
     "execution_count": 58,
     "metadata": {},
     "output_type": "execute_result"
    }
   ],
   "source": [
    "#1f)\n",
    "sp.diff(x*sp.sqrt(x))"
   ]
  },
  {
   "cell_type": "code",
   "execution_count": 59,
   "id": "28ae6728-f253-409c-bcb3-06791af01fb3",
   "metadata": {},
   "outputs": [
    {
     "data": {
      "text/latex": [
       "$\\displaystyle - \\frac{6}{x^{4}}$"
      ],
      "text/plain": [
       "-6/x**4"
      ]
     },
     "execution_count": 59,
     "metadata": {},
     "output_type": "execute_result"
    }
   ],
   "source": [
    "#1g)\n",
    "sp.diff(2/x**3)"
   ]
  },
  {
   "cell_type": "code",
   "execution_count": 60,
   "id": "542af412-4c84-446f-8d90-91befcc6bad3",
   "metadata": {},
   "outputs": [
    {
     "data": {
      "text/latex": [
       "$\\displaystyle \\frac{x^{2} - 2}{x^{3}}$"
      ],
      "text/plain": [
       "(x**2 - 2)/x**3"
      ]
     },
     "execution_count": 60,
     "metadata": {},
     "output_type": "execute_result"
    }
   ],
   "source": [
    "#1h)\n",
    "def h20(x):\n",
    "    return (x**2-2)/x**3\n",
    "h20(x)"
   ]
  },
  {
   "cell_type": "code",
   "execution_count": 61,
   "id": "470419bb-b0b5-4f51-8779-4d49ad83a7a7",
   "metadata": {},
   "outputs": [
    {
     "data": {
      "text/latex": [
       "$\\displaystyle \\frac{2}{x^{2}} - \\frac{3 \\left(x^{2} - 2\\right)}{x^{4}}$"
      ],
      "text/plain": [
       "2/x**2 - 3*(x**2 - 2)/x**4"
      ]
     },
     "execution_count": 61,
     "metadata": {},
     "output_type": "execute_result"
    }
   ],
   "source": [
    "sp.diff(h20(x), x)"
   ]
  },
  {
   "cell_type": "code",
   "execution_count": 62,
   "id": "12cc1486-9f27-4b5a-9ae9-e69aa6141b4c",
   "metadata": {},
   "outputs": [
    {
     "data": {
      "text/latex": [
       "$\\displaystyle \\frac{13 x^{\\frac{11}{2}}}{2}$"
      ],
      "text/plain": [
       "13*x**(11/2)/2"
      ]
     },
     "execution_count": 62,
     "metadata": {},
     "output_type": "execute_result"
    }
   ],
   "source": [
    "#1i)\n",
    "sp.diff(sp.sqrt(x)*x**6)"
   ]
  },
  {
   "cell_type": "code",
   "execution_count": 63,
   "id": "485f7f02-5ccc-4e4f-a6ba-37cc2c881c1b",
   "metadata": {},
   "outputs": [
    {
     "data": {
      "text/latex": [
       "$\\displaystyle x \\left(x^{2} + 1\\right)$"
      ],
      "text/plain": [
       "x*(x**2 + 1)"
      ]
     },
     "execution_count": 63,
     "metadata": {},
     "output_type": "execute_result"
    }
   ],
   "source": [
    "#1j)\n",
    "def i20(x):\n",
    "    return x*(x**2+1)\n",
    "i20(x)"
   ]
  },
  {
   "cell_type": "code",
   "execution_count": 64,
   "id": "1d9665ff-e6b8-4d7c-babe-53bccdcaf256",
   "metadata": {},
   "outputs": [
    {
     "data": {
      "text/latex": [
       "$\\displaystyle 3 x^{2} + 1$"
      ],
      "text/plain": [
       "3*x**2 + 1"
      ]
     },
     "execution_count": 64,
     "metadata": {},
     "output_type": "execute_result"
    }
   ],
   "source": [
    "sp.diff(i20(x), x)"
   ]
  },
  {
   "cell_type": "code",
   "execution_count": 65,
   "id": "e9aa97c9-81ae-40b9-9646-e4fc58160ef8",
   "metadata": {},
   "outputs": [
    {
     "data": {
      "text/latex": [
       "$\\displaystyle \\frac{x^{2} + 4 x + 2}{x - 2}$"
      ],
      "text/plain": [
       "(x**2 + 4*x + 2)/(x - 2)"
      ]
     },
     "execution_count": 65,
     "metadata": {},
     "output_type": "execute_result"
    }
   ],
   "source": [
    "#1m)\n",
    "def m20(x):\n",
    "    return (x**2+4*x+2)/(x-2)\n",
    "m20(x)"
   ]
  },
  {
   "cell_type": "code",
   "execution_count": 66,
   "id": "dcf23132-4cbe-42c0-a064-a221f229b5d0",
   "metadata": {},
   "outputs": [
    {
     "data": {
      "text/latex": [
       "$\\displaystyle \\frac{2 x + 4}{x - 2} - \\frac{x^{2} + 4 x + 2}{\\left(x - 2\\right)^{2}}$"
      ],
      "text/plain": [
       "(2*x + 4)/(x - 2) - (x**2 + 4*x + 2)/(x - 2)**2"
      ]
     },
     "execution_count": 66,
     "metadata": {},
     "output_type": "execute_result"
    }
   ],
   "source": [
    "sp.diff(m20(x), x)"
   ]
  },
  {
   "cell_type": "code",
   "execution_count": 67,
   "id": "fc1295fe-971e-4044-91d5-6f90aebe8194",
   "metadata": {},
   "outputs": [
    {
     "data": {
      "text/latex": [
       "$\\displaystyle \\frac{x^{3} - 2 x}{x^{2} - 1}$"
      ],
      "text/plain": [
       "(x**3 - 2*x)/(x**2 - 1)"
      ]
     },
     "execution_count": 67,
     "metadata": {},
     "output_type": "execute_result"
    }
   ],
   "source": [
    "#oppgave 2\n",
    "#2a)\n",
    "def a2_20(x):\n",
    "    return (x**3-2*x)/(x**2-1)\n",
    "a2_20(x)"
   ]
  },
  {
   "cell_type": "code",
   "execution_count": 68,
   "id": "764a9aaf-078a-43f6-9d00-b22747cb55ec",
   "metadata": {},
   "outputs": [
    {
     "data": {
      "text/latex": [
       "$\\displaystyle - \\frac{2 x \\left(x^{3} - 2 x\\right)}{\\left(x^{2} - 1\\right)^{2}} + \\frac{3 x^{2} - 2}{x^{2} - 1}$"
      ],
      "text/plain": [
       "-2*x*(x**3 - 2*x)/(x**2 - 1)**2 + (3*x**2 - 2)/(x**2 - 1)"
      ]
     },
     "execution_count": 68,
     "metadata": {},
     "output_type": "execute_result"
    }
   ],
   "source": [
    "sp.diff(a2_20(x), x)"
   ]
  },
  {
   "cell_type": "code",
   "execution_count": 69,
   "id": "b3aea1f4-d35b-4323-b7f9-0cc78f1007af",
   "metadata": {},
   "outputs": [
    {
     "data": {
      "text/latex": [
       "$\\displaystyle \\left(x^{2} - 1\\right) \\left(x^{2} + 1\\right)$"
      ],
      "text/plain": [
       "(x**2 - 1)*(x**2 + 1)"
      ]
     },
     "execution_count": 69,
     "metadata": {},
     "output_type": "execute_result"
    }
   ],
   "source": [
    "#2b\n",
    "def b2_20(x):\n",
    "    return (x**2+1)*(x**2-1)\n",
    "b2_20(x)"
   ]
  },
  {
   "cell_type": "code",
   "execution_count": 70,
   "id": "fe9f7418-b5e3-4354-b9e6-e9dc9f44ab17",
   "metadata": {},
   "outputs": [
    {
     "data": {
      "text/latex": [
       "$\\displaystyle 2 x \\left(x^{2} - 1\\right) + 2 x \\left(x^{2} + 1\\right)$"
      ],
      "text/plain": [
       "2*x*(x**2 - 1) + 2*x*(x**2 + 1)"
      ]
     },
     "execution_count": 70,
     "metadata": {},
     "output_type": "execute_result"
    }
   ],
   "source": [
    "sp.diff(b2_20(x), x)"
   ]
  },
  {
   "cell_type": "code",
   "execution_count": 71,
   "id": "9dc82f6a-bd25-45a8-884c-a570122b8b49",
   "metadata": {},
   "outputs": [
    {
     "data": {
      "text/latex": [
       "$\\displaystyle \\frac{3 x - 4}{x^{3} + 7}$"
      ],
      "text/plain": [
       "(3*x - 4)/(x**3 + 7)"
      ]
     },
     "execution_count": 71,
     "metadata": {},
     "output_type": "execute_result"
    }
   ],
   "source": [
    "#2c)\n",
    "def c2_20(x):\n",
    "    return (3*x-4)/(x**3+7)\n",
    "c2_20(x)"
   ]
  },
  {
   "cell_type": "code",
   "execution_count": 72,
   "id": "24be1685-df7a-4469-9159-4305e9b2a97b",
   "metadata": {},
   "outputs": [
    {
     "data": {
      "text/latex": [
       "$\\displaystyle - \\frac{3 x^{2} \\cdot \\left(3 x - 4\\right)}{\\left(x^{3} + 7\\right)^{2}} + \\frac{3}{x^{3} + 7}$"
      ],
      "text/plain": [
       "-3*x**2*(3*x - 4)/(x**3 + 7)**2 + 3/(x**3 + 7)"
      ]
     },
     "execution_count": 72,
     "metadata": {},
     "output_type": "execute_result"
    }
   ],
   "source": [
    "sp.diff(c2_20(x), x)"
   ]
  },
  {
   "cell_type": "code",
   "execution_count": 73,
   "id": "697cbc9b-f59f-4574-a499-83443db63b4f",
   "metadata": {},
   "outputs": [
    {
     "data": {
      "text/latex": [
       "$\\displaystyle \\left(x^{3} + 6 x\\right)^{5}$"
      ],
      "text/plain": [
       "(x**3 + 6*x)**5"
      ]
     },
     "execution_count": 73,
     "metadata": {},
     "output_type": "execute_result"
    }
   ],
   "source": [
    "#kap 21\n",
    "#oppgave 1\n",
    "#1a)\n",
    "def a21(x):\n",
    "    return (x**3+6*x)**5\n",
    "a21(x)"
   ]
  },
  {
   "cell_type": "code",
   "execution_count": 74,
   "id": "75cca2d6-e3da-459c-a68c-e402f5824c79",
   "metadata": {},
   "outputs": [
    {
     "data": {
      "text/latex": [
       "$\\displaystyle \\left(15 x^{2} + 30\\right) \\left(x^{3} + 6 x\\right)^{4}$"
      ],
      "text/plain": [
       "(15*x**2 + 30)*(x**3 + 6*x)**4"
      ]
     },
     "execution_count": 74,
     "metadata": {},
     "output_type": "execute_result"
    }
   ],
   "source": [
    "sp.diff(a21(x), x)"
   ]
  },
  {
   "cell_type": "code",
   "execution_count": 75,
   "id": "f1971fcf-e032-4bd0-9365-4dc67f3371fa",
   "metadata": {},
   "outputs": [
    {
     "data": {
      "text/latex": [
       "$\\displaystyle \\sqrt{2 x^{2} + 5}$"
      ],
      "text/plain": [
       "sqrt(2*x**2 + 5)"
      ]
     },
     "execution_count": 75,
     "metadata": {},
     "output_type": "execute_result"
    }
   ],
   "source": [
    "#1b)\n",
    "def b21(x):\n",
    "    return sp.sqrt(2*x**2+5)\n",
    "b21(x)"
   ]
  },
  {
   "cell_type": "code",
   "execution_count": 76,
   "id": "07032ccf-f4ae-4e10-8043-2ed5a74a0d5a",
   "metadata": {},
   "outputs": [
    {
     "data": {
      "text/latex": [
       "$\\displaystyle \\frac{2 x}{\\sqrt{2 x^{2} + 5}}$"
      ],
      "text/plain": [
       "2*x/sqrt(2*x**2 + 5)"
      ]
     },
     "execution_count": 76,
     "metadata": {},
     "output_type": "execute_result"
    }
   ],
   "source": [
    "sp.diff(b21(x), x)"
   ]
  },
  {
   "cell_type": "code",
   "execution_count": 77,
   "id": "1473b9c6-5329-4886-a438-b712e9434a19",
   "metadata": {},
   "outputs": [
    {
     "data": {
      "text/latex": [
       "$\\displaystyle \\frac{16 x^{4}}{\\left(x^{2} + 3\\right)^{4}}$"
      ],
      "text/plain": [
       "16*x**4/(x**2 + 3)**4"
      ]
     },
     "execution_count": 77,
     "metadata": {},
     "output_type": "execute_result"
    }
   ],
   "source": [
    "#1c)\n",
    "def c21(x):\n",
    "    return (2*x/(x**2+3))**4\n",
    "c21(x)"
   ]
  },
  {
   "cell_type": "code",
   "execution_count": 78,
   "id": "02ceb45e-3c76-4909-a1a4-d7bd9447ef4e",
   "metadata": {},
   "outputs": [
    {
     "data": {
      "text/latex": [
       "$\\displaystyle - \\frac{128 x^{5}}{\\left(x^{2} + 3\\right)^{5}} + \\frac{64 x^{3}}{\\left(x^{2} + 3\\right)^{4}}$"
      ],
      "text/plain": [
       "-128*x**5/(x**2 + 3)**5 + 64*x**3/(x**2 + 3)**4"
      ]
     },
     "execution_count": 78,
     "metadata": {},
     "output_type": "execute_result"
    }
   ],
   "source": [
    "sp.diff(c21(x), x)"
   ]
  },
  {
   "cell_type": "code",
   "execution_count": 79,
   "id": "ca51e53b-7766-4732-b994-8dae21f90704",
   "metadata": {},
   "outputs": [
    {
     "data": {
      "text/latex": [
       "$\\displaystyle \\left(2 x^{4} + 9\\right)^{1.5}$"
      ],
      "text/plain": [
       "(2*x**4 + 9)**1.5"
      ]
     },
     "execution_count": 79,
     "metadata": {},
     "output_type": "execute_result"
    }
   ],
   "source": [
    "#1d)\n",
    "def d21(x):\n",
    "    return (2*x**4+9)**(3/2)\n",
    "d21(x)"
   ]
  },
  {
   "cell_type": "code",
   "execution_count": 80,
   "id": "ebf1541b-dd87-4373-afd1-0ec0833370f2",
   "metadata": {},
   "outputs": [
    {
     "data": {
      "text/latex": [
       "$\\displaystyle 12.0 x^{3} \\left(2 x^{4} + 9\\right)^{0.5}$"
      ],
      "text/plain": [
       "12.0*x**3*(2*x**4 + 9)**0.5"
      ]
     },
     "execution_count": 80,
     "metadata": {},
     "output_type": "execute_result"
    }
   ],
   "source": [
    "sp.diff(d21(x), x)"
   ]
  },
  {
   "cell_type": "code",
   "execution_count": 81,
   "id": "e8b4eed7-0fc3-4628-84d1-5f4388839a3a",
   "metadata": {},
   "outputs": [
    {
     "data": {
      "text/latex": [
       "$\\displaystyle \\frac{1}{\\sqrt{x^{2} + 1}}$"
      ],
      "text/plain": [
       "1/sqrt(x**2 + 1)"
      ]
     },
     "execution_count": 81,
     "metadata": {},
     "output_type": "execute_result"
    }
   ],
   "source": [
    "#1e)\n",
    "def e21(x):\n",
    "    return 1/sp.sqrt(1+x**2)\n",
    "e21(x)"
   ]
  },
  {
   "cell_type": "code",
   "execution_count": 82,
   "id": "5869c1fb-b318-4afb-b081-232d3c99709a",
   "metadata": {},
   "outputs": [
    {
     "data": {
      "text/latex": [
       "$\\displaystyle - \\frac{x}{\\left(x^{2} + 1\\right)^{\\frac{3}{2}}}$"
      ],
      "text/plain": [
       "-x/(x**2 + 1)**(3/2)"
      ]
     },
     "execution_count": 82,
     "metadata": {},
     "output_type": "execute_result"
    }
   ],
   "source": [
    "sp.diff(e21(x), x)"
   ]
  },
  {
   "cell_type": "code",
   "execution_count": 83,
   "id": "df47c414-4810-4c69-a6fc-85a8d867ebdd",
   "metadata": {},
   "outputs": [
    {
     "data": {
      "text/latex": [
       "$\\displaystyle x^{2} \\left(x^{2} + 2 x\\right)^{3}$"
      ],
      "text/plain": [
       "x**2*(x**2 + 2*x)**3"
      ]
     },
     "execution_count": 83,
     "metadata": {},
     "output_type": "execute_result"
    }
   ],
   "source": [
    "#1f)\n",
    "def f21(x):\n",
    "    return x**2*(x**2+2*x)**3\n",
    "f21(x)"
   ]
  },
  {
   "cell_type": "code",
   "execution_count": 84,
   "id": "6473d35e-2c66-4076-8a47-1b2a0d36dcb4",
   "metadata": {},
   "outputs": [
    {
     "data": {
      "text/latex": [
       "$\\displaystyle x^{2} \\cdot \\left(6 x + 6\\right) \\left(x^{2} + 2 x\\right)^{2} + 2 x \\left(x^{2} + 2 x\\right)^{3}$"
      ],
      "text/plain": [
       "x**2*(6*x + 6)*(x**2 + 2*x)**2 + 2*x*(x**2 + 2*x)**3"
      ]
     },
     "execution_count": 84,
     "metadata": {},
     "output_type": "execute_result"
    }
   ],
   "source": [
    "sp.diff(f21(x), x)"
   ]
  },
  {
   "cell_type": "code",
   "execution_count": 85,
   "id": "58a877bf-fe17-4868-817e-07f66d260b84",
   "metadata": {},
   "outputs": [
    {
     "data": {
      "text/latex": [
       "$\\displaystyle x^{2} \\sqrt{x^{2} - 2 x}$"
      ],
      "text/plain": [
       "x**2*sqrt(x**2 - 2*x)"
      ]
     },
     "execution_count": 85,
     "metadata": {},
     "output_type": "execute_result"
    }
   ],
   "source": [
    "#1g)\n",
    "def g21(x):\n",
    "    return x**2*sp.sqrt(x**2-2*x)\n",
    "g21(x)"
   ]
  },
  {
   "cell_type": "code",
   "execution_count": 86,
   "id": "168d0a11-5981-4508-ab77-3db74f1127cf",
   "metadata": {},
   "outputs": [
    {
     "data": {
      "text/latex": [
       "$\\displaystyle \\frac{x^{2} \\left(x - 1\\right)}{\\sqrt{x^{2} - 2 x}} + 2 x \\sqrt{x^{2} - 2 x}$"
      ],
      "text/plain": [
       "x**2*(x - 1)/sqrt(x**2 - 2*x) + 2*x*sqrt(x**2 - 2*x)"
      ]
     },
     "execution_count": 86,
     "metadata": {},
     "output_type": "execute_result"
    }
   ],
   "source": [
    "sp.diff(g21(x), x)"
   ]
  },
  {
   "cell_type": "code",
   "execution_count": 87,
   "id": "9662febd-8691-47c0-9f99-b6e42358d1b7",
   "metadata": {},
   "outputs": [
    {
     "data": {
      "text/latex": [
       "$\\displaystyle \\frac{x^{2}}{\\left(x^{2} + x\\right)^{3}}$"
      ],
      "text/plain": [
       "x**2/(x**2 + x)**3"
      ]
     },
     "execution_count": 87,
     "metadata": {},
     "output_type": "execute_result"
    }
   ],
   "source": [
    "#1h)\n",
    "def h21(x):\n",
    "    return x**2/(x**2+x)**3\n",
    "h21(x)"
   ]
  },
  {
   "cell_type": "code",
   "execution_count": 88,
   "id": "db5539f9-5859-421e-b745-191eddb13028",
   "metadata": {},
   "outputs": [
    {
     "data": {
      "text/latex": [
       "$\\displaystyle \\frac{x^{2} \\left(- 6 x - 3\\right)}{\\left(x^{2} + x\\right)^{4}} + \\frac{2 x}{\\left(x^{2} + x\\right)^{3}}$"
      ],
      "text/plain": [
       "x**2*(-6*x - 3)/(x**2 + x)**4 + 2*x/(x**2 + x)**3"
      ]
     },
     "execution_count": 88,
     "metadata": {},
     "output_type": "execute_result"
    }
   ],
   "source": [
    "sp.diff(h21(x), x)"
   ]
  },
  {
   "cell_type": "code",
   "execution_count": 89,
   "id": "8a661f54-d208-4201-9547-a979bbdef65e",
   "metadata": {},
   "outputs": [
    {
     "data": {
      "text/latex": [
       "$\\displaystyle \\left(x^{2} + 1\\right)^{2} \\left(x^{3} + 1\\right)^{3}$"
      ],
      "text/plain": [
       "(x**2 + 1)**2*(x**3 + 1)**3"
      ]
     },
     "execution_count": 89,
     "metadata": {},
     "output_type": "execute_result"
    }
   ],
   "source": [
    "#1i)\n",
    "def i21(x):\n",
    "    return (x**2+1)**2*(x**3+1)**3\n",
    "i21(x)"
   ]
  },
  {
   "cell_type": "code",
   "execution_count": 90,
   "id": "449b47a1-2d3f-4db5-8c51-91e4410afff0",
   "metadata": {},
   "outputs": [
    {
     "data": {
      "text/latex": [
       "$\\displaystyle 9 x^{2} \\left(x^{2} + 1\\right)^{2} \\left(x^{3} + 1\\right)^{2} + 4 x \\left(x^{2} + 1\\right) \\left(x^{3} + 1\\right)^{3}$"
      ],
      "text/plain": [
       "9*x**2*(x**2 + 1)**2*(x**3 + 1)**2 + 4*x*(x**2 + 1)*(x**3 + 1)**3"
      ]
     },
     "execution_count": 90,
     "metadata": {},
     "output_type": "execute_result"
    }
   ],
   "source": [
    "sp.diff(i21(x), x)"
   ]
  },
  {
   "cell_type": "code",
   "execution_count": 91,
   "id": "53a48ab8-ba61-41fd-b1a4-ab9310f5a4d9",
   "metadata": {},
   "outputs": [
    {
     "data": {
      "text/latex": [
       "$\\displaystyle \\sqrt{\\left(3 x^{2} + 2 x\\right)^{4}}$"
      ],
      "text/plain": [
       "sqrt((3*x**2 + 2*x)**4)"
      ]
     },
     "execution_count": 91,
     "metadata": {},
     "output_type": "execute_result"
    }
   ],
   "source": [
    "#oppgave 2\n",
    "#2a)\n",
    "def a2_21(x):\n",
    "    return sp.sqrt((3*x**2+2*x)**4)\n",
    "a2_21(x)"
   ]
  },
  {
   "cell_type": "code",
   "execution_count": 92,
   "id": "148e7bb9-3c57-450d-a49c-ec414e01f414",
   "metadata": {},
   "outputs": [
    {
     "data": {
      "text/latex": [
       "$\\displaystyle \\frac{\\left(24 x + 8\\right) \\sqrt{\\left(3 x^{2} + 2 x\\right)^{4}}}{2 \\cdot \\left(3 x^{2} + 2 x\\right)}$"
      ],
      "text/plain": [
       "(24*x + 8)*sqrt((3*x**2 + 2*x)**4)/(2*(3*x**2 + 2*x))"
      ]
     },
     "execution_count": 92,
     "metadata": {},
     "output_type": "execute_result"
    }
   ],
   "source": [
    "sp.diff(a2_21(x), x)"
   ]
  },
  {
   "cell_type": "code",
   "execution_count": 93,
   "id": "2d0c23f5-9b7a-4383-9bb3-e922737cc1ca",
   "metadata": {},
   "outputs": [
    {
     "data": {
      "text/latex": [
       "$\\displaystyle \\left(x^{2} + 3\\right)^{4} \\left(x^{3} + 3\\right)^{5}$"
      ],
      "text/plain": [
       "(x**2 + 3)**4*(x**3 + 3)**5"
      ]
     },
     "execution_count": 93,
     "metadata": {},
     "output_type": "execute_result"
    }
   ],
   "source": [
    "#2b)\n",
    "def b2_21(x):\n",
    "    return (x**3+3)**5*(x**2+3)**4\n",
    "b2_21(x)"
   ]
  },
  {
   "cell_type": "code",
   "execution_count": 94,
   "id": "92da68a0-8950-41b1-ac12-0d2fa46310eb",
   "metadata": {},
   "outputs": [
    {
     "data": {
      "text/latex": [
       "$\\displaystyle 15 x^{2} \\left(x^{2} + 3\\right)^{4} \\left(x^{3} + 3\\right)^{4} + 8 x \\left(x^{2} + 3\\right)^{3} \\left(x^{3} + 3\\right)^{5}$"
      ],
      "text/plain": [
       "15*x**2*(x**2 + 3)**4*(x**3 + 3)**4 + 8*x*(x**2 + 3)**3*(x**3 + 3)**5"
      ]
     },
     "execution_count": 94,
     "metadata": {},
     "output_type": "execute_result"
    }
   ],
   "source": [
    "sp.diff(b2_21(x), x)"
   ]
  },
  {
   "cell_type": "code",
   "execution_count": 95,
   "id": "3c1af891-80a9-4c64-b7ea-01f8fdc0fb90",
   "metadata": {},
   "outputs": [
    {
     "data": {
      "text/latex": [
       "$\\displaystyle x^{2} \\sqrt{x^{2} + 1}$"
      ],
      "text/plain": [
       "x**2*sqrt(x**2 + 1)"
      ]
     },
     "execution_count": 95,
     "metadata": {},
     "output_type": "execute_result"
    }
   ],
   "source": [
    "#2c)\n",
    "def c2_21(x):\n",
    "    return sp.sqrt(x**2+1)*x**2\n",
    "c2_21(x)"
   ]
  },
  {
   "cell_type": "code",
   "execution_count": 96,
   "id": "82c47ca3-c526-419c-86a2-9b632bd34f8b",
   "metadata": {},
   "outputs": [
    {
     "data": {
      "text/latex": [
       "$\\displaystyle \\frac{x^{3}}{\\sqrt{x^{2} + 1}} + 2 x \\sqrt{x^{2} + 1}$"
      ],
      "text/plain": [
       "x**3/sqrt(x**2 + 1) + 2*x*sqrt(x**2 + 1)"
      ]
     },
     "execution_count": 96,
     "metadata": {},
     "output_type": "execute_result"
    }
   ],
   "source": [
    "sp.diff(c2_21(x), x)"
   ]
  },
  {
   "cell_type": "code",
   "execution_count": 97,
   "id": "f207899b-adac-41c4-bd81-4b0055b0c7a0",
   "metadata": {},
   "outputs": [
    {
     "data": {
      "text/latex": [
       "$\\displaystyle \\frac{\\left(3 x^{2} + 2 x\\right)^{3}}{x^{2}}$"
      ],
      "text/plain": [
       "(3*x**2 + 2*x)**3/x**2"
      ]
     },
     "execution_count": 97,
     "metadata": {},
     "output_type": "execute_result"
    }
   ],
   "source": [
    "#2d)\n",
    "def d2_21(x):\n",
    "    return ((2*x+3*x**2)**3)/x**2\n",
    "d2_21(x)"
   ]
  },
  {
   "cell_type": "code",
   "execution_count": 98,
   "id": "131310fe-d126-435a-8413-3a2cd9b1b8fd",
   "metadata": {},
   "outputs": [
    {
     "data": {
      "text/latex": [
       "$\\displaystyle \\frac{\\left(18 x + 6\\right) \\left(3 x^{2} + 2 x\\right)^{2}}{x^{2}} - \\frac{2 \\left(3 x^{2} + 2 x\\right)^{3}}{x^{3}}$"
      ],
      "text/plain": [
       "(18*x + 6)*(3*x**2 + 2*x)**2/x**2 - 2*(3*x**2 + 2*x)**3/x**3"
      ]
     },
     "execution_count": 98,
     "metadata": {},
     "output_type": "execute_result"
    }
   ],
   "source": [
    "sp.diff(d2_21(x), x)"
   ]
  },
  {
   "cell_type": "code",
   "execution_count": 99,
   "id": "2a7ab77d-75ef-498a-9af1-f5d872dd6d1b",
   "metadata": {},
   "outputs": [
    {
     "data": {
      "text/latex": [
       "$\\displaystyle \\sqrt[3]{x^{4} - 5}$"
      ],
      "text/plain": [
       "(x**4 - 5)**(1/3)"
      ]
     },
     "execution_count": 99,
     "metadata": {},
     "output_type": "execute_result"
    }
   ],
   "source": [
    "#2e)\n",
    "def e2_21(x):\n",
    "    return sp.root(x**4-5, 3)\n",
    "e2_21(x)"
   ]
  },
  {
   "cell_type": "code",
   "execution_count": 100,
   "id": "3b026c42-a259-47dc-b31e-6e9dce5806a6",
   "metadata": {},
   "outputs": [
    {
     "data": {
      "text/latex": [
       "$\\displaystyle \\frac{4 x^{3}}{3 \\left(x^{4} - 5\\right)^{\\frac{2}{3}}}$"
      ],
      "text/plain": [
       "4*x**3/(3*(x**4 - 5)**(2/3))"
      ]
     },
     "execution_count": 100,
     "metadata": {},
     "output_type": "execute_result"
    }
   ],
   "source": [
    "sp.diff(e2_21(x), x)"
   ]
  },
  {
   "cell_type": "code",
   "execution_count": 101,
   "id": "c33523a4-e7ea-4462-9c74-65a85d108b7e",
   "metadata": {},
   "outputs": [
    {
     "data": {
      "text/latex": [
       "$\\displaystyle \\frac{x^{3}}{\\sqrt{x^{4} - 1}}$"
      ],
      "text/plain": [
       "x**3/sqrt(x**4 - 1)"
      ]
     },
     "execution_count": 101,
     "metadata": {},
     "output_type": "execute_result"
    }
   ],
   "source": [
    "#2f)\n",
    "def f2_21(x):\n",
    "    return x**3/sp.sqrt(x**4-1)\n",
    "f2_21(x)"
   ]
  },
  {
   "cell_type": "code",
   "execution_count": 102,
   "id": "e19e9854-0554-43f9-9dcb-96a0ff076837",
   "metadata": {},
   "outputs": [
    {
     "data": {
      "text/latex": [
       "$\\displaystyle - \\frac{2 x^{6}}{\\left(x^{4} - 1\\right)^{\\frac{3}{2}}} + \\frac{3 x^{2}}{\\sqrt{x^{4} - 1}}$"
      ],
      "text/plain": [
       "-2*x**6/(x**4 - 1)**(3/2) + 3*x**2/sqrt(x**4 - 1)"
      ]
     },
     "execution_count": 102,
     "metadata": {},
     "output_type": "execute_result"
    }
   ],
   "source": [
    "sp.diff(f2_21(x), x)"
   ]
  },
  {
   "cell_type": "code",
   "execution_count": 103,
   "id": "8f4c681b-4299-4019-bf68-85a7639113d6",
   "metadata": {},
   "outputs": [
    {
     "data": {
      "text/latex": [
       "$\\displaystyle \\log{\\left(5 x \\right)}$"
      ],
      "text/plain": [
       "log(5*x)"
      ]
     },
     "execution_count": 103,
     "metadata": {},
     "output_type": "execute_result"
    }
   ],
   "source": [
    "#kap22\n",
    "#oppgave 1\n",
    "#1a)\n",
    "def a22(x):\n",
    "    return sp.ln (5*x)\n",
    "a22(x)"
   ]
  },
  {
   "cell_type": "code",
   "execution_count": 107,
   "id": "753d82c5-bf4e-4268-89d7-3343eb25a6a0",
   "metadata": {},
   "outputs": [
    {
     "data": {
      "text/latex": [
       "$\\displaystyle \\frac{1}{x}$"
      ],
      "text/plain": [
       "1/x"
      ]
     },
     "execution_count": 107,
     "metadata": {},
     "output_type": "execute_result"
    }
   ],
   "source": [
    "sp.diff(a22(x), x)"
   ]
  },
  {
   "cell_type": "code",
   "execution_count": 116,
   "id": "16265ac3-006d-4142-9022-0251a963b772",
   "metadata": {},
   "outputs": [
    {
     "data": {
      "text/latex": [
       "$\\displaystyle e^{- 2 x}$"
      ],
      "text/plain": [
       "exp(-2*x)"
      ]
     },
     "execution_count": 116,
     "metadata": {},
     "output_type": "execute_result"
    }
   ],
   "source": [
    "#1b)\n",
    "def b22(x):\n",
    "    return sp.exp(-2*x)\n",
    "b22(x)"
   ]
  },
  {
   "cell_type": "code",
   "execution_count": 117,
   "id": "19e63920-08fa-404f-a594-6ef68b3e7d86",
   "metadata": {},
   "outputs": [
    {
     "data": {
      "text/latex": [
       "$\\displaystyle - 2 e^{- 2 x}$"
      ],
      "text/plain": [
       "-2*exp(-2*x)"
      ]
     },
     "execution_count": 117,
     "metadata": {},
     "output_type": "execute_result"
    }
   ],
   "source": [
    "sp.diff(b22(x), x)"
   ]
  },
  {
   "cell_type": "code",
   "execution_count": 118,
   "id": "8ff10e7c-c5be-4aa5-bc34-78a256ecc1a2",
   "metadata": {},
   "outputs": [
    {
     "data": {
      "text/latex": [
       "$\\displaystyle \\log{\\left(12 x \\right)} - 3$"
      ],
      "text/plain": [
       "log(12*x) - 3"
      ]
     },
     "execution_count": 118,
     "metadata": {},
     "output_type": "execute_result"
    }
   ],
   "source": [
    "#1c)\n",
    "def c22(x):\n",
    "    return sp.ln(12*x)-3\n",
    "c22(x)"
   ]
  },
  {
   "cell_type": "code",
   "execution_count": 119,
   "id": "afc355ef-0b47-46e4-a1c0-9e1ff077260d",
   "metadata": {},
   "outputs": [
    {
     "data": {
      "text/latex": [
       "$\\displaystyle \\frac{1}{x}$"
      ],
      "text/plain": [
       "1/x"
      ]
     },
     "execution_count": 119,
     "metadata": {},
     "output_type": "execute_result"
    }
   ],
   "source": [
    "sp.diff(c22(x), x)"
   ]
  },
  {
   "cell_type": "code",
   "execution_count": 120,
   "id": "b2d7970b-6d30-48e5-af07-7af962fc9402",
   "metadata": {},
   "outputs": [
    {
     "data": {
      "text/latex": [
       "$\\displaystyle 2^{x}$"
      ],
      "text/plain": [
       "2**x"
      ]
     },
     "execution_count": 120,
     "metadata": {},
     "output_type": "execute_result"
    }
   ],
   "source": [
    "#1d)\n",
    "def d22(x):\n",
    "    return 2**x\n",
    "d22(x)"
   ]
  },
  {
   "cell_type": "code",
   "execution_count": 121,
   "id": "58fb4414-6e9a-4c77-b62f-9678f42679b0",
   "metadata": {},
   "outputs": [
    {
     "data": {
      "text/latex": [
       "$\\displaystyle 2^{x} \\log{\\left(2 \\right)}$"
      ],
      "text/plain": [
       "2**x*log(2)"
      ]
     },
     "execution_count": 121,
     "metadata": {},
     "output_type": "execute_result"
    }
   ],
   "source": [
    "sp.diff(d22(x), x)"
   ]
  },
  {
   "cell_type": "code",
   "execution_count": 124,
   "id": "5e540059-78bf-43aa-b51e-d693ebf1409d",
   "metadata": {},
   "outputs": [
    {
     "data": {
      "text/latex": [
       "$\\displaystyle e^{3 x + 5}$"
      ],
      "text/plain": [
       "exp(3*x + 5)"
      ]
     },
     "execution_count": 124,
     "metadata": {},
     "output_type": "execute_result"
    }
   ],
   "source": [
    "#1e)\n",
    "def e22(x):\n",
    "    return sp.exp(3*x+5)\n",
    "e22(x)"
   ]
  },
  {
   "cell_type": "code",
   "execution_count": 125,
   "id": "c2c75234-1878-49ef-8393-aaea7b603c71",
   "metadata": {},
   "outputs": [
    {
     "data": {
      "text/latex": [
       "$\\displaystyle 3 e^{3 x + 5}$"
      ],
      "text/plain": [
       "3*exp(3*x + 5)"
      ]
     },
     "execution_count": 125,
     "metadata": {},
     "output_type": "execute_result"
    }
   ],
   "source": [
    "sp.diff(e22(x), x)"
   ]
  },
  {
   "cell_type": "code",
   "execution_count": 126,
   "id": "73d8ef4c-dc2a-40dd-8cd2-9e677f61a899",
   "metadata": {},
   "outputs": [
    {
     "data": {
      "text/latex": [
       "$\\displaystyle \\log{\\left(x^{5} + 1 \\right)}$"
      ],
      "text/plain": [
       "log(x**5 + 1)"
      ]
     },
     "execution_count": 126,
     "metadata": {},
     "output_type": "execute_result"
    }
   ],
   "source": [
    "#1f)\n",
    "def f22(x):\n",
    "    return sp.ln(x**5+1)\n",
    "f22(x)"
   ]
  },
  {
   "cell_type": "code",
   "execution_count": 127,
   "id": "3c6c2521-d0e4-41fe-a96a-206cedb05c1b",
   "metadata": {},
   "outputs": [
    {
     "data": {
      "text/latex": [
       "$\\displaystyle \\frac{5 x^{4}}{x^{5} + 1}$"
      ],
      "text/plain": [
       "5*x**4/(x**5 + 1)"
      ]
     },
     "execution_count": 127,
     "metadata": {},
     "output_type": "execute_result"
    }
   ],
   "source": [
    "sp.diff(f22(x), x)"
   ]
  },
  {
   "cell_type": "code",
   "execution_count": 129,
   "id": "eeb412be-ce32-4d2f-9974-8e7d917f3791",
   "metadata": {},
   "outputs": [
    {
     "data": {
      "text/latex": [
       "$\\displaystyle e^{4 x^{2} + 8 x}$"
      ],
      "text/plain": [
       "exp(4*x**2 + 8*x)"
      ]
     },
     "execution_count": 129,
     "metadata": {},
     "output_type": "execute_result"
    }
   ],
   "source": [
    "#1g)\n",
    "def g22(x):\n",
    "    return sp.exp(4*x**2+8*x)\n",
    "g22(x)"
   ]
  },
  {
   "cell_type": "code",
   "execution_count": 131,
   "id": "f39c32ea-6410-48d8-b982-bc1ff7def860",
   "metadata": {},
   "outputs": [
    {
     "data": {
      "text/latex": [
       "$\\displaystyle \\left(8 x + 8\\right) e^{4 x^{2} + 8 x}$"
      ],
      "text/plain": [
       "(8*x + 8)*exp(4*x**2 + 8*x)"
      ]
     },
     "execution_count": 131,
     "metadata": {},
     "output_type": "execute_result"
    }
   ],
   "source": [
    "sp.diff(g22(x), x)"
   ]
  },
  {
   "cell_type": "code",
   "execution_count": 132,
   "id": "104dbfd6-d953-4f29-8a7e-6b94c552de3e",
   "metadata": {},
   "outputs": [
    {
     "data": {
      "text/latex": [
       "$\\displaystyle \\log{\\left(\\frac{1}{x} \\right)}$"
      ],
      "text/plain": [
       "log(1/x)"
      ]
     },
     "execution_count": 132,
     "metadata": {},
     "output_type": "execute_result"
    }
   ],
   "source": [
    "#1h)\n",
    "def h22(x):\n",
    "    return sp.ln(1/x)\n",
    "h22(x)"
   ]
  },
  {
   "cell_type": "code",
   "execution_count": 133,
   "id": "68998dca-133b-492c-800b-6309a171b258",
   "metadata": {},
   "outputs": [
    {
     "data": {
      "text/latex": [
       "$\\displaystyle - \\frac{1}{x}$"
      ],
      "text/plain": [
       "-1/x"
      ]
     },
     "execution_count": 133,
     "metadata": {},
     "output_type": "execute_result"
    }
   ],
   "source": [
    "sp.diff(h22(x), x)"
   ]
  },
  {
   "cell_type": "code",
   "execution_count": 135,
   "id": "f8e162f3-2e2a-4978-9276-e46858db8178",
   "metadata": {},
   "outputs": [
    {
     "data": {
      "text/latex": [
       "$\\displaystyle 3 e^{4 x} + 6 \\log{\\left(x \\right)}$"
      ],
      "text/plain": [
       "3*exp(4*x) + 6*log(x)"
      ]
     },
     "execution_count": 135,
     "metadata": {},
     "output_type": "execute_result"
    }
   ],
   "source": [
    "#1i)\n",
    "def i22(x):\n",
    "    return 6*sp.ln(x)+3*sp.exp(4*x)\n",
    "i22(x)"
   ]
  },
  {
   "cell_type": "code",
   "execution_count": 137,
   "id": "7cb0108b-2dc5-4808-b6e7-a9bd6c08eccb",
   "metadata": {},
   "outputs": [
    {
     "data": {
      "text/latex": [
       "$\\displaystyle 12 e^{4 x} + \\frac{6}{x}$"
      ],
      "text/plain": [
       "12*exp(4*x) + 6/x"
      ]
     },
     "execution_count": 137,
     "metadata": {},
     "output_type": "execute_result"
    }
   ],
   "source": [
    "sp.diff(i22(x), x)"
   ]
  },
  {
   "cell_type": "code",
   "execution_count": 138,
   "id": "a0f9ca54-1315-49d5-86e0-504d9cab57b2",
   "metadata": {},
   "outputs": [
    {
     "data": {
      "text/latex": [
       "$\\displaystyle x e^{- x}$"
      ],
      "text/plain": [
       "x*exp(-x)"
      ]
     },
     "execution_count": 138,
     "metadata": {},
     "output_type": "execute_result"
    }
   ],
   "source": [
    "#1j)\n",
    "def j22(x):\n",
    "    return x*sp.exp(-x)\n",
    "j22(x)"
   ]
  },
  {
   "cell_type": "code",
   "execution_count": 139,
   "id": "adc92739-dc9f-4eeb-a2ae-d51a9ae38229",
   "metadata": {},
   "outputs": [
    {
     "data": {
      "text/latex": [
       "$\\displaystyle - x e^{- x} + e^{- x}$"
      ],
      "text/plain": [
       "-x*exp(-x) + exp(-x)"
      ]
     },
     "execution_count": 139,
     "metadata": {},
     "output_type": "execute_result"
    }
   ],
   "source": [
    "sp.diff(j22(x), x)"
   ]
  },
  {
   "cell_type": "code",
   "execution_count": 140,
   "id": "61e90f78-2c55-4598-806c-3f5db30b179c",
   "metadata": {},
   "outputs": [
    {
     "data": {
      "text/latex": [
       "$\\displaystyle x^{2} \\log{\\left(x^{2} + 2 \\right)}$"
      ],
      "text/plain": [
       "x**2*log(x**2 + 2)"
      ]
     },
     "execution_count": 140,
     "metadata": {},
     "output_type": "execute_result"
    }
   ],
   "source": [
    "#1k)\n",
    "def k22(x):\n",
    "    return x**2*sp.ln(x**2+2)\n",
    "k22(x)"
   ]
  },
  {
   "cell_type": "code",
   "execution_count": 141,
   "id": "6932e9c8-1ac7-45b3-8700-ccecc6147f53",
   "metadata": {},
   "outputs": [
    {
     "data": {
      "text/latex": [
       "$\\displaystyle \\frac{2 x^{3}}{x^{2} + 2} + 2 x \\log{\\left(x^{2} + 2 \\right)}$"
      ],
      "text/plain": [
       "2*x**3/(x**2 + 2) + 2*x*log(x**2 + 2)"
      ]
     },
     "execution_count": 141,
     "metadata": {},
     "output_type": "execute_result"
    }
   ],
   "source": [
    "sp.diff(k22(x), x)"
   ]
  },
  {
   "cell_type": "code",
   "execution_count": 142,
   "id": "2b1ffa69-d219-4d04-8f8c-e4bcc4d6e58e",
   "metadata": {},
   "outputs": [
    {
     "data": {
      "text/latex": [
       "$\\displaystyle x^{3} e^{2 x}$"
      ],
      "text/plain": [
       "x**3*exp(2*x)"
      ]
     },
     "execution_count": 142,
     "metadata": {},
     "output_type": "execute_result"
    }
   ],
   "source": [
    "#oppgave 2\n",
    "#2a)\n",
    "def a2_22(x):\n",
    "    return x**3*sp.exp(2*x)\n",
    "a2_22(x)"
   ]
  },
  {
   "cell_type": "code",
   "execution_count": 143,
   "id": "e484f22b-5ff9-4b55-8e1e-467a4ed51ba3",
   "metadata": {},
   "outputs": [
    {
     "data": {
      "text/latex": [
       "$\\displaystyle 2 x^{3} e^{2 x} + 3 x^{2} e^{2 x}$"
      ],
      "text/plain": [
       "2*x**3*exp(2*x) + 3*x**2*exp(2*x)"
      ]
     },
     "execution_count": 143,
     "metadata": {},
     "output_type": "execute_result"
    }
   ],
   "source": [
    "sp.diff(a2_22(x), x)"
   ]
  },
  {
   "cell_type": "code",
   "execution_count": 144,
   "id": "769137fa-5870-481a-afba-6ca1319d42bc",
   "metadata": {},
   "outputs": [
    {
     "data": {
      "text/latex": [
       "$\\displaystyle \\log{\\left(\\frac{x^{2} - 1}{x^{2} + 1} \\right)}$"
      ],
      "text/plain": [
       "log((x**2 - 1)/(x**2 + 1))"
      ]
     },
     "execution_count": 144,
     "metadata": {},
     "output_type": "execute_result"
    }
   ],
   "source": [
    "#2b)\n",
    "def b2_22(x):\n",
    "    return sp.ln((x**2-1)/(x**2+1))\n",
    "b2_22(x)"
   ]
  },
  {
   "cell_type": "code",
   "execution_count": 145,
   "id": "2501f792-393e-48e3-847c-4c1d4c7e1fa9",
   "metadata": {},
   "outputs": [
    {
     "data": {
      "text/latex": [
       "$\\displaystyle \\frac{\\left(x^{2} + 1\\right) \\left(- \\frac{2 x \\left(x^{2} - 1\\right)}{\\left(x^{2} + 1\\right)^{2}} + \\frac{2 x}{x^{2} + 1}\\right)}{x^{2} - 1}$"
      ],
      "text/plain": [
       "(x**2 + 1)*(-2*x*(x**2 - 1)/(x**2 + 1)**2 + 2*x/(x**2 + 1))/(x**2 - 1)"
      ]
     },
     "execution_count": 145,
     "metadata": {},
     "output_type": "execute_result"
    }
   ],
   "source": [
    "sp.diff(b2_22(x), x)"
   ]
  },
  {
   "cell_type": "code",
   "execution_count": 146,
   "id": "d94046bc-a332-422e-87c5-2989637a4032",
   "metadata": {},
   "outputs": [
    {
     "data": {
      "text/latex": [
       "$\\displaystyle x^{2} \\log{\\left(x^{2} + 2 \\right)}$"
      ],
      "text/plain": [
       "x**2*log(x**2 + 2)"
      ]
     },
     "execution_count": 146,
     "metadata": {},
     "output_type": "execute_result"
    }
   ],
   "source": [
    "#2c)\n",
    "def c2_22(x):\n",
    "    return x**2*sp.ln(x**2+2)\n",
    "c2_22(x)"
   ]
  },
  {
   "cell_type": "code",
   "execution_count": 148,
   "id": "008767cf-8793-4682-ad85-4b8017b1b494",
   "metadata": {},
   "outputs": [
    {
     "data": {
      "text/latex": [
       "$\\displaystyle \\frac{2 x^{3}}{x^{2} + 2} + 2 x \\log{\\left(x^{2} + 2 \\right)}$"
      ],
      "text/plain": [
       "2*x**3/(x**2 + 2) + 2*x*log(x**2 + 2)"
      ]
     },
     "execution_count": 148,
     "metadata": {},
     "output_type": "execute_result"
    }
   ],
   "source": [
    "sp.diff(c2_22(x), x)"
   ]
  },
  {
   "cell_type": "code",
   "execution_count": 149,
   "id": "6dc6ea3d-f312-4300-aecf-92154b72f8aa",
   "metadata": {},
   "outputs": [
    {
     "data": {
      "text/latex": [
       "$\\displaystyle \\frac{e^{- x}}{x^{2} + 1}$"
      ],
      "text/plain": [
       "exp(-x)/(x**2 + 1)"
      ]
     },
     "execution_count": 149,
     "metadata": {},
     "output_type": "execute_result"
    }
   ],
   "source": [
    "#2d)\n",
    "def d2_22(x):\n",
    "    return sp.exp(-x)/(x**2+1)\n",
    "d2_22(x)"
   ]
  },
  {
   "cell_type": "code",
   "execution_count": 150,
   "id": "865ee2dc-219b-449a-9fb9-de9f2bb070d5",
   "metadata": {},
   "outputs": [
    {
     "data": {
      "text/latex": [
       "$\\displaystyle - \\frac{2 x e^{- x}}{\\left(x^{2} + 1\\right)^{2}} - \\frac{e^{- x}}{x^{2} + 1}$"
      ],
      "text/plain": [
       "-2*x*exp(-x)/(x**2 + 1)**2 - exp(-x)/(x**2 + 1)"
      ]
     },
     "execution_count": 150,
     "metadata": {},
     "output_type": "execute_result"
    }
   ],
   "source": [
    "sp.diff(d2_22(x), x)"
   ]
  }
 ],
 "metadata": {
  "kernelspec": {
   "display_name": "Python 3 (ipykernel)",
   "language": "python",
   "name": "python3"
  },
  "language_info": {
   "codemirror_mode": {
    "name": "ipython",
    "version": 3
   },
   "file_extension": ".py",
   "mimetype": "text/x-python",
   "name": "python",
   "nbconvert_exporter": "python",
   "pygments_lexer": "ipython3",
   "version": "3.9.13"
  }
 },
 "nbformat": 4,
 "nbformat_minor": 5
}
